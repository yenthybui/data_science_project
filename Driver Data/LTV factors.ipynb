{
 "cells": [
  {
   "cell_type": "code",
   "execution_count": 1,
   "id": "701ae76c-b95a-4539-a144-13ea633e3193",
   "metadata": {
    "tags": []
   },
   "outputs": [],
   "source": [
    "import pandas as pd\n",
    "import numpy as np\n",
    "import matplotlib.pyplot as plt\n",
    "import seaborn as sns\n",
    "import statsmodels.api as sm"
   ]
  },
  {
   "cell_type": "markdown",
   "id": "7bc05e7c-8186-4587-b707-e9e9e28fbd29",
   "metadata": {},
   "source": [
    "# Load Data"
   ]
  },
  {
   "cell_type": "code",
   "execution_count": 4,
   "id": "0386db3b-5158-407a-86eb-b222f3f1eb9a",
   "metadata": {
    "tags": []
   },
   "outputs": [
    {
     "data": {
      "text/html": [
       "<div>\n",
       "<style scoped>\n",
       "    .dataframe tbody tr th:only-of-type {\n",
       "        vertical-align: middle;\n",
       "    }\n",
       "\n",
       "    .dataframe tbody tr th {\n",
       "        vertical-align: top;\n",
       "    }\n",
       "\n",
       "    .dataframe thead th {\n",
       "        text-align: right;\n",
       "    }\n",
       "</style>\n",
       "<table border=\"1\" class=\"dataframe\">\n",
       "  <thead>\n",
       "    <tr style=\"text-align: right;\">\n",
       "      <th></th>\n",
       "      <th>driver_id</th>\n",
       "      <th>driver_onboard_date</th>\n",
       "      <th>first_drive</th>\n",
       "      <th>last_drive</th>\n",
       "      <th>num_drive</th>\n",
       "      <th>day_drive</th>\n",
       "      <th>min_ride_distance</th>\n",
       "      <th>max_ride_distance</th>\n",
       "      <th>total_ride_distance</th>\n",
       "      <th>min_ride_duration</th>\n",
       "      <th>...</th>\n",
       "      <th>min_earning_ride</th>\n",
       "      <th>max_earning_ride</th>\n",
       "      <th>earnings_per_active_day</th>\n",
       "      <th>ride_freq_during_active</th>\n",
       "      <th>avg_primetime_multiplier</th>\n",
       "      <th>num_rides_in_1st_30days</th>\n",
       "      <th>n_days_after_onboarding</th>\n",
       "      <th>n_days_after_last_drive</th>\n",
       "      <th>n_days_to_first_drive</th>\n",
       "      <th>churn</th>\n",
       "    </tr>\n",
       "  </thead>\n",
       "  <tbody>\n",
       "    <tr>\n",
       "      <th>0</th>\n",
       "      <td>002be0ffdc997bd5c50703158b7c2491</td>\n",
       "      <td>2016-03-29 00:00:00.000000 UTC</td>\n",
       "      <td>2016-03-29</td>\n",
       "      <td>2016-06-23</td>\n",
       "      <td>277</td>\n",
       "      <td>277</td>\n",
       "      <td>606</td>\n",
       "      <td>109289</td>\n",
       "      <td>1740287</td>\n",
       "      <td>117</td>\n",
       "      <td>...</td>\n",
       "      <td>4.000000</td>\n",
       "      <td>78.746694</td>\n",
       "      <td>50.870315</td>\n",
       "      <td>3.220930</td>\n",
       "      <td>19.404332</td>\n",
       "      <td>112</td>\n",
       "      <td>89.0</td>\n",
       "      <td>3.0</td>\n",
       "      <td>0.0</td>\n",
       "      <td>0</td>\n",
       "    </tr>\n",
       "    <tr>\n",
       "      <th>1</th>\n",
       "      <td>007f0389f9c7b03ef97098422f902e62</td>\n",
       "      <td>2016-03-29 00:00:00.000000 UTC</td>\n",
       "      <td>2016-03-29</td>\n",
       "      <td>2016-06-22</td>\n",
       "      <td>31</td>\n",
       "      <td>31</td>\n",
       "      <td>548</td>\n",
       "      <td>10028</td>\n",
       "      <td>117531</td>\n",
       "      <td>200</td>\n",
       "      <td>...</td>\n",
       "      <td>4.993610</td>\n",
       "      <td>14.602911</td>\n",
       "      <td>21.432978</td>\n",
       "      <td>0.364706</td>\n",
       "      <td>20.161290</td>\n",
       "      <td>11</td>\n",
       "      <td>89.0</td>\n",
       "      <td>4.0</td>\n",
       "      <td>0.0</td>\n",
       "      <td>0</td>\n",
       "    </tr>\n",
       "    <tr>\n",
       "      <th>2</th>\n",
       "      <td>011e5c5dfc5c2c92501b8b24d47509bc</td>\n",
       "      <td>2016-04-05 00:00:00.000000 UTC</td>\n",
       "      <td>2016-04-05</td>\n",
       "      <td>2016-06-12</td>\n",
       "      <td>34</td>\n",
       "      <td>34</td>\n",
       "      <td>1148</td>\n",
       "      <td>86080</td>\n",
       "      <td>269653</td>\n",
       "      <td>223</td>\n",
       "      <td>...</td>\n",
       "      <td>4.310401</td>\n",
       "      <td>65.760606</td>\n",
       "      <td>32.161853</td>\n",
       "      <td>0.500000</td>\n",
       "      <td>19.852941</td>\n",
       "      <td>12</td>\n",
       "      <td>82.0</td>\n",
       "      <td>14.0</td>\n",
       "      <td>0.0</td>\n",
       "      <td>0</td>\n",
       "    </tr>\n",
       "    <tr>\n",
       "      <th>3</th>\n",
       "      <td>0152a2f305e71d26cc964f8d4411add9</td>\n",
       "      <td>2016-04-23 00:00:00.000000 UTC</td>\n",
       "      <td>2016-04-25</td>\n",
       "      <td>2016-06-26</td>\n",
       "      <td>191</td>\n",
       "      <td>191</td>\n",
       "      <td>22</td>\n",
       "      <td>31789</td>\n",
       "      <td>1471239</td>\n",
       "      <td>24</td>\n",
       "      <td>...</td>\n",
       "      <td>4.000000</td>\n",
       "      <td>29.293182</td>\n",
       "      <td>52.217368</td>\n",
       "      <td>3.080645</td>\n",
       "      <td>10.732984</td>\n",
       "      <td>56</td>\n",
       "      <td>64.0</td>\n",
       "      <td>0.0</td>\n",
       "      <td>2.0</td>\n",
       "      <td>0</td>\n",
       "    </tr>\n",
       "    <tr>\n",
       "      <th>4</th>\n",
       "      <td>01674381af7edd264113d4e6ed55ecda</td>\n",
       "      <td>2016-04-29 00:00:00.000000 UTC</td>\n",
       "      <td>2016-04-29</td>\n",
       "      <td>2016-06-24</td>\n",
       "      <td>375</td>\n",
       "      <td>375</td>\n",
       "      <td>673</td>\n",
       "      <td>72609</td>\n",
       "      <td>3123644</td>\n",
       "      <td>145</td>\n",
       "      <td>...</td>\n",
       "      <td>4.000000</td>\n",
       "      <td>54.340290</td>\n",
       "      <td>107.621815</td>\n",
       "      <td>6.696429</td>\n",
       "      <td>12.533333</td>\n",
       "      <td>188</td>\n",
       "      <td>58.0</td>\n",
       "      <td>2.0</td>\n",
       "      <td>0.0</td>\n",
       "      <td>0</td>\n",
       "    </tr>\n",
       "  </tbody>\n",
       "</table>\n",
       "<p>5 rows × 36 columns</p>\n",
       "</div>"
      ],
      "text/plain": [
       "                          driver_id             driver_onboard_date  \\\n",
       "0  002be0ffdc997bd5c50703158b7c2491  2016-03-29 00:00:00.000000 UTC   \n",
       "1  007f0389f9c7b03ef97098422f902e62  2016-03-29 00:00:00.000000 UTC   \n",
       "2  011e5c5dfc5c2c92501b8b24d47509bc  2016-04-05 00:00:00.000000 UTC   \n",
       "3  0152a2f305e71d26cc964f8d4411add9  2016-04-23 00:00:00.000000 UTC   \n",
       "4  01674381af7edd264113d4e6ed55ecda  2016-04-29 00:00:00.000000 UTC   \n",
       "\n",
       "  first_drive  last_drive  num_drive  day_drive  min_ride_distance  \\\n",
       "0  2016-03-29  2016-06-23        277        277                606   \n",
       "1  2016-03-29  2016-06-22         31         31                548   \n",
       "2  2016-04-05  2016-06-12         34         34               1148   \n",
       "3  2016-04-25  2016-06-26        191        191                 22   \n",
       "4  2016-04-29  2016-06-24        375        375                673   \n",
       "\n",
       "   max_ride_distance  total_ride_distance  min_ride_duration  ...  \\\n",
       "0             109289              1740287                117  ...   \n",
       "1              10028               117531                200  ...   \n",
       "2              86080               269653                223  ...   \n",
       "3              31789              1471239                 24  ...   \n",
       "4              72609              3123644                145  ...   \n",
       "\n",
       "   min_earning_ride  max_earning_ride  earnings_per_active_day  \\\n",
       "0          4.000000         78.746694                50.870315   \n",
       "1          4.993610         14.602911                21.432978   \n",
       "2          4.310401         65.760606                32.161853   \n",
       "3          4.000000         29.293182                52.217368   \n",
       "4          4.000000         54.340290               107.621815   \n",
       "\n",
       "   ride_freq_during_active  avg_primetime_multiplier  num_rides_in_1st_30days  \\\n",
       "0                 3.220930                 19.404332                      112   \n",
       "1                 0.364706                 20.161290                       11   \n",
       "2                 0.500000                 19.852941                       12   \n",
       "3                 3.080645                 10.732984                       56   \n",
       "4                 6.696429                 12.533333                      188   \n",
       "\n",
       "   n_days_after_onboarding  n_days_after_last_drive  n_days_to_first_drive  \\\n",
       "0                     89.0                      3.0                    0.0   \n",
       "1                     89.0                      4.0                    0.0   \n",
       "2                     82.0                     14.0                    0.0   \n",
       "3                     64.0                      0.0                    2.0   \n",
       "4                     58.0                      2.0                    0.0   \n",
       "\n",
       "   churn  \n",
       "0      0  \n",
       "1      0  \n",
       "2      0  \n",
       "3      0  \n",
       "4      0  \n",
       "\n",
       "[5 rows x 36 columns]"
      ]
     },
     "execution_count": 4,
     "metadata": {},
     "output_type": "execute_result"
    }
   ],
   "source": [
    "df = pd.read_csv('data/driver_feature.csv')\n",
    "df.head()"
   ]
  },
  {
   "cell_type": "code",
   "execution_count": 7,
   "id": "ce1d078b-a303-41ba-9f39-538705970e03",
   "metadata": {
    "tags": []
   },
   "outputs": [],
   "source": [
    "df['first_drive'] = pd.to_datetime(df['first_drive'])\n",
    "df['last_drive'] = pd.to_datetime(df['last_drive'])\n",
    "\n",
    "df['total_tenure'] = (df['last_drive'] - df['first_drive']).dt.days"
   ]
  },
  {
   "cell_type": "code",
   "execution_count": 10,
   "id": "9c781b0f-1291-49fe-8588-89f9716802aa",
   "metadata": {
    "tags": []
   },
   "outputs": [],
   "source": [
    "df['avg_rides_per_day'] = df['num_drive'] / ((df['last_drive'] - df['first_drive']).dt.days + 1)"
   ]
  },
  {
   "cell_type": "code",
   "execution_count": 11,
   "id": "3070d19a-c1b2-48da-a603-ff71ce9b0991",
   "metadata": {
    "tags": []
   },
   "outputs": [],
   "source": [
    "df['LTV'] = df['avg_earning_per_ride'] * df['avg_rides_per_day'] * df['total_tenure']"
   ]
  },
  {
   "cell_type": "code",
   "execution_count": 8,
   "id": "eae04795-fdd1-4495-8311-ff9bf0a4ee64",
   "metadata": {
    "tags": []
   },
   "outputs": [
    {
     "data": {
      "text/plain": [
       "Index(['driver_id', 'driver_onboard_date', 'first_drive', 'last_drive',\n",
       "       'num_drive', 'day_drive', 'min_ride_distance', 'max_ride_distance',\n",
       "       'total_ride_distance', 'min_ride_duration', 'max_ride_duration',\n",
       "       'total_ride_duration', 'avg_distance_per_day', 'avg_duration_per_day',\n",
       "       'avg_distance_per_drive', 'avg_duration_per_drive',\n",
       "       'min_acceptance_duration', 'max_acceptance_duration',\n",
       "       'avg_acceptance_duration', 'min_arrival_duration',\n",
       "       'max_arrival_duration', 'avg_arrival_duration', 'min_wait_duration',\n",
       "       'max_wait_duration', 'avg_wait_duration', 'avg_earning_per_ride',\n",
       "       'min_earning_ride', 'max_earning_ride', 'earnings_per_active_day',\n",
       "       'ride_freq_during_active', 'avg_primetime_multiplier',\n",
       "       'num_rides_in_1st_30days', 'n_days_after_onboarding',\n",
       "       'n_days_after_last_drive', 'n_days_to_first_drive', 'churn',\n",
       "       'total_tenure'],\n",
       "      dtype='object')"
      ]
     },
     "execution_count": 8,
     "metadata": {},
     "output_type": "execute_result"
    }
   ],
   "source": [
    "df.columns"
   ]
  },
  {
   "cell_type": "code",
   "execution_count": 13,
   "id": "badb61fa-61e1-4dac-8522-afe4b5ab9dd7",
   "metadata": {
    "tags": []
   },
   "outputs": [],
   "source": [
    "driver_data = df[['avg_distance_per_drive','avg_duration_per_drive','avg_arrival_duration','avg_wait_duration','ride_freq_during_active','avg_primetime_multiplier', 'LTV']]"
   ]
  },
  {
   "cell_type": "code",
   "execution_count": 16,
   "id": "e61fce2c-b69a-4d7b-bd4b-f533a169c955",
   "metadata": {
    "tags": []
   },
   "outputs": [
    {
     "name": "stdout",
     "output_type": "stream",
     "text": [
      "<class 'pandas.core.frame.DataFrame'>\n",
      "RangeIndex: 937 entries, 0 to 936\n",
      "Data columns (total 7 columns):\n",
      " #   Column                    Non-Null Count  Dtype  \n",
      "---  ------                    --------------  -----  \n",
      " 0   avg_distance_per_drive    937 non-null    float64\n",
      " 1   avg_duration_per_drive    937 non-null    float64\n",
      " 2   avg_arrival_duration      844 non-null    float64\n",
      " 3   avg_wait_duration         844 non-null    float64\n",
      " 4   ride_freq_during_active   937 non-null    float64\n",
      " 5   avg_primetime_multiplier  937 non-null    float64\n",
      " 6   LTV                       844 non-null    float64\n",
      "dtypes: float64(7)\n",
      "memory usage: 51.4 KB\n"
     ]
    }
   ],
   "source": [
    "driver_data.info()"
   ]
  },
  {
   "cell_type": "code",
   "execution_count": 18,
   "id": "e808ce37-3203-4705-94d0-a94fc62a411c",
   "metadata": {
    "tags": []
   },
   "outputs": [
    {
     "name": "stderr",
     "output_type": "stream",
     "text": [
      "/var/folders/1l/7rdgkfvs7h3cgjr2m2yj7ck80000gn/T/ipykernel_81201/2321688622.py:1: SettingWithCopyWarning: \n",
      "A value is trying to be set on a copy of a slice from a DataFrame\n",
      "\n",
      "See the caveats in the documentation: https://pandas.pydata.org/pandas-docs/stable/user_guide/indexing.html#returning-a-view-versus-a-copy\n",
      "  driver_data.dropna(subset=['avg_arrival_duration','avg_wait_duration', 'LTV'], inplace=True)\n"
     ]
    }
   ],
   "source": [
    "driver_data.dropna(subset=['avg_arrival_duration','avg_wait_duration', 'LTV'], inplace=True)"
   ]
  },
  {
   "cell_type": "code",
   "execution_count": 19,
   "id": "b83c7810-0179-4388-904b-57c6917eea15",
   "metadata": {
    "tags": []
   },
   "outputs": [
    {
     "name": "stdout",
     "output_type": "stream",
     "text": [
      "<class 'pandas.core.frame.DataFrame'>\n",
      "Index: 844 entries, 0 to 936\n",
      "Data columns (total 7 columns):\n",
      " #   Column                    Non-Null Count  Dtype  \n",
      "---  ------                    --------------  -----  \n",
      " 0   avg_distance_per_drive    844 non-null    float64\n",
      " 1   avg_duration_per_drive    844 non-null    float64\n",
      " 2   avg_arrival_duration      844 non-null    float64\n",
      " 3   avg_wait_duration         844 non-null    float64\n",
      " 4   ride_freq_during_active   844 non-null    float64\n",
      " 5   avg_primetime_multiplier  844 non-null    float64\n",
      " 6   LTV                       844 non-null    float64\n",
      "dtypes: float64(7)\n",
      "memory usage: 52.8 KB\n"
     ]
    }
   ],
   "source": [
    "driver_data.info()"
   ]
  },
  {
   "cell_type": "code",
   "execution_count": 22,
   "id": "deb4d99f-77f6-486e-8354-c63947ebff2d",
   "metadata": {
    "tags": []
   },
   "outputs": [
    {
     "data": {
      "text/plain": [
       "avg_arrival_duration       -0.222126\n",
       "avg_distance_per_drive     -0.050489\n",
       "avg_duration_per_drive      0.090370\n",
       "avg_primetime_multiplier    0.218600\n",
       "avg_wait_duration           0.278651\n",
       "ride_freq_during_active     0.685345\n",
       "LTV                         1.000000\n",
       "Name: LTV, dtype: float64"
      ]
     },
     "execution_count": 22,
     "metadata": {},
     "output_type": "execute_result"
    }
   ],
   "source": [
    "driver_data.corr()['LTV'].sort_values()"
   ]
  },
  {
   "cell_type": "code",
   "execution_count": 20,
   "id": "b2974ed8-c11e-48ae-b57e-cacff9eea7a5",
   "metadata": {
    "tags": []
   },
   "outputs": [],
   "source": [
    "X = driver_data.drop(columns='LTV')\n",
    "y = driver_data['LTV']"
   ]
  },
  {
   "cell_type": "code",
   "execution_count": 21,
   "id": "5b033b28-78b4-4519-8753-622abe01b0bc",
   "metadata": {
    "tags": []
   },
   "outputs": [
    {
     "name": "stdout",
     "output_type": "stream",
     "text": [
      "                            OLS Regression Results                            \n",
      "==============================================================================\n",
      "Dep. Variable:                    LTV   R-squared:                       0.535\n",
      "Model:                            OLS   Adj. R-squared:                  0.532\n",
      "Method:                 Least Squares   F-statistic:                     160.5\n",
      "Date:                Thu, 04 Jul 2024   Prob (F-statistic):          1.63e-135\n",
      "Time:                        03:02:55   Log-Likelihood:                -7248.3\n",
      "No. Observations:                 844   AIC:                         1.451e+04\n",
      "Df Residuals:                     837   BIC:                         1.454e+04\n",
      "Df Model:                           6                                         \n",
      "Covariance Type:            nonrobust                                         \n",
      "============================================================================================\n",
      "                               coef    std err          t      P>|t|      [0.025      0.975]\n",
      "--------------------------------------------------------------------------------------------\n",
      "const                    -1408.5719    403.943     -3.487      0.001   -2201.433    -615.711\n",
      "avg_distance_per_drive       0.1092      0.035      3.146      0.002       0.041       0.177\n",
      "avg_duration_per_drive       1.3751      0.542      2.539      0.011       0.312       2.438\n",
      "avg_arrival_duration        -2.5112      0.764     -3.287      0.001      -4.011      -1.012\n",
      "avg_wait_duration           80.0187     11.527      6.942      0.000      57.394     102.644\n",
      "ride_freq_during_active    392.0221     14.895     26.318      0.000     362.786     421.259\n",
      "avg_primetime_multiplier    25.0016      7.097      3.523      0.000      11.071      38.932\n",
      "==============================================================================\n",
      "Omnibus:                      529.719   Durbin-Watson:                   1.961\n",
      "Prob(Omnibus):                  0.000   Jarque-Bera (JB):            17669.024\n",
      "Skew:                          -2.296   Prob(JB):                         0.00\n",
      "Kurtosis:                      24.940   Cond. No.                     6.79e+04\n",
      "==============================================================================\n",
      "\n",
      "Notes:\n",
      "[1] Standard Errors assume that the covariance matrix of the errors is correctly specified.\n",
      "[2] The condition number is large, 6.79e+04. This might indicate that there are\n",
      "strong multicollinearity or other numerical problems.\n",
      "\n",
      "Coefficients:\n",
      "const                      -1408.571929\n",
      "avg_distance_per_drive         0.109186\n",
      "avg_duration_per_drive         1.375096\n",
      "avg_arrival_duration          -2.511236\n",
      "avg_wait_duration             80.018687\n",
      "ride_freq_during_active      392.022098\n",
      "avg_primetime_multiplier      25.001629\n",
      "dtype: float64\n"
     ]
    }
   ],
   "source": [
    "X = sm.add_constant(X)\n",
    "model = sm.OLS(y, X).fit()\n",
    "print(model.summary())\n",
    "\n",
    "coefficients = model.params\n",
    "print(\"\\nCoefficients:\")\n",
    "print(coefficients)"
   ]
  },
  {
   "cell_type": "code",
   "execution_count": null,
   "id": "2d20fdcc-f9f5-4e84-8f62-523541cace33",
   "metadata": {
    "tags": []
   },
   "outputs": [],
   "source": []
  }
 ],
 "metadata": {
  "kernelspec": {
   "display_name": "Python 3 (ipykernel)",
   "language": "python",
   "name": "python3"
  },
  "language_info": {
   "codemirror_mode": {
    "name": "ipython",
    "version": 3
   },
   "file_extension": ".py",
   "mimetype": "text/x-python",
   "name": "python",
   "nbconvert_exporter": "python",
   "pygments_lexer": "ipython3",
   "version": "3.11.5"
  }
 },
 "nbformat": 4,
 "nbformat_minor": 5
}
